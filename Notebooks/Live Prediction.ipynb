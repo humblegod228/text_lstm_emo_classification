{
 "cells": [
  {
   "cell_type": "code",
   "execution_count": 1,
   "id": "cbfb303c",
   "metadata": {},
   "outputs": [],
   "source": [
    "import numpy as np\n",
    "import pandas as pd\n",
    "\n",
    "import tensorflow as tf\n",
    "from tensorflow import keras"
   ]
  },
  {
   "cell_type": "markdown",
   "id": "61c2e09c",
   "metadata": {},
   "source": [
    "## Load the Model"
   ]
  },
  {
   "cell_type": "code",
   "execution_count": 2,
   "id": "50d1be0e",
   "metadata": {},
   "outputs": [],
   "source": [
    "lstm_model = keras.models.load_model(\"lstm_model.h5\")"
   ]
  },
  {
   "cell_type": "markdown",
   "id": "c11f556d",
   "metadata": {},
   "source": [
    "## Helper Functions "
   ]
  },
  {
   "cell_type": "code",
   "execution_count": 3,
   "id": "707d354b",
   "metadata": {},
   "outputs": [],
   "source": [
    "import re\n",
    "import pickle\n",
    "import nltk\n",
    "from nltk.corpus import stopwords\n",
    "from nltk.tokenize import word_tokenize\n",
    "from nltk.stem import WordNetLemmatizer\n",
    "from keras.utils import pad_sequences\n",
    "\n",
    "max_len = 35\n",
    "\n",
    "def text_preprocessing(text):\n",
    "    \n",
    "    # Remove punctuations and numbers\n",
    "    text = re.sub(\"[^a-zA-Z]\",\" \",text.lower())\n",
    "    text = re.sub(r\"\\s+\",' ',text)\n",
    "    \n",
    "    # Tokenization\n",
    "    token = word_tokenize(text)\n",
    "    \n",
    "    # Remove StopWords\n",
    "    token = [i for i in token if i not in stopwords.words(\"english\")]\n",
    "    \n",
    "    # Lemmatization\n",
    "    lemmatizer = WordNetLemmatizer()\n",
    "    token = [lemmatizer.lemmatize(word) for word in token]\n",
    "    \n",
    "    processed_text = \" \".join(token)\n",
    "    return processed_text\n",
    "\n",
    "with open('tokenizer.pickle', 'rb') as handle:\n",
    "    word_tokenizer = pickle.load(handle)\n",
    "    \n",
    "with open('encoder.pickle', 'rb') as handle:\n",
    "    encoder = pickle.load(handle)"
   ]
  },
  {
   "cell_type": "code",
   "execution_count": 4,
   "id": "449cd118",
   "metadata": {},
   "outputs": [],
   "source": [
    "def string_to_vector(text):\n",
    "    text = text_preprocessing(text)\n",
    "    vector = word_tokenizer.texts_to_sequences([text])\n",
    "    padded_vector = pad_sequences(vector,padding=\"post\",maxlen=max_len)\n",
    "    \n",
    "    return padded_vector"
   ]
  },
  {
   "cell_type": "markdown",
   "id": "cde0943a",
   "metadata": {},
   "source": [
    "## Predict Function"
   ]
  },
  {
   "cell_type": "code",
   "execution_count": 5,
   "id": "6f5de6e3",
   "metadata": {},
   "outputs": [],
   "source": [
    "def predict(text):\n",
    "    vector = string_to_vector(text)\n",
    "    out = lstm_model.predict(vector,verbose=0)\n",
    "    \n",
    "    answer = np.argmax(out)\n",
    "    ans = encoder.inverse_transform([answer])\n",
    "    \n",
    "    ans_dict = {}\n",
    "    for i in range(5):\n",
    "        ans_dict[encoder.inverse_transform([i])[0]] = (out[0][i]/np.sum(out) * 100)\n",
    "        \n",
    "    return ans[0],ans_dict"
   ]
  },
  {
   "cell_type": "code",
   "execution_count": 6,
   "id": "8871f018",
   "metadata": {},
   "outputs": [
    {
     "data": {
      "text/plain": [
       "('fear',\n",
       " {'anger': 24.688906967639923,\n",
       "  'fear': 49.98914301395416,\n",
       "  'joy': 16.8228879570961,\n",
       "  'love': 3.4928038716316223,\n",
       "  'sadness': 5.006255209445953})"
      ]
     },
     "execution_count": 6,
     "metadata": {},
     "output_type": "execute_result"
    }
   ],
   "source": [
    "predict(\"I love movies\")"
   ]
  },
  {
   "cell_type": "code",
   "execution_count": 7,
   "id": "076854d7",
   "metadata": {},
   "outputs": [
    {
     "data": {
      "text/plain": [
       "('fear',\n",
       " {'anger': 0.3404121147468686,\n",
       "  'fear': 79.48245406150818,\n",
       "  'joy': 3.675984963774681,\n",
       "  'love': 0.31650534365326166,\n",
       "  'sadness': 16.18463397026062})"
      ]
     },
     "execution_count": 7,
     "metadata": {},
     "output_type": "execute_result"
    }
   ],
   "source": [
    "predict(\"ghost movies are scary\")"
   ]
  },
  {
   "cell_type": "code",
   "execution_count": 8,
   "id": "42146ace",
   "metadata": {},
   "outputs": [
    {
     "data": {
      "text/plain": [
       "('sadness',\n",
       " {'anger': 0.044325710041448474,\n",
       "  'fear': 0.010724683670559898,\n",
       "  'joy': 0.3180867759510875,\n",
       "  'love': 0.020188411872368306,\n",
       "  'sadness': 99.60667490959167})"
      ]
     },
     "execution_count": 8,
     "metadata": {},
     "output_type": "execute_result"
    }
   ],
   "source": [
    "predict(\"Ram lost a game\")"
   ]
  },
  {
   "cell_type": "code",
   "execution_count": 9,
   "id": "0483b84e",
   "metadata": {},
   "outputs": [
    {
     "data": {
      "text/plain": [
       "('anger',\n",
       " {'anger': 95.45241594314575,\n",
       "  'fear': 0.4613462369889021,\n",
       "  'joy': 2.2286556661129,\n",
       "  'love': 0.6277773529291153,\n",
       "  'sadness': 1.2298072688281536})"
      ]
     },
     "execution_count": 9,
     "metadata": {},
     "output_type": "execute_result"
    }
   ],
   "source": [
    "predict(\"My mom scolded me for not eating my breakfast\")"
   ]
  },
  {
   "cell_type": "code",
   "execution_count": 10,
   "id": "76d9d570",
   "metadata": {},
   "outputs": [
    {
     "data": {
      "text/plain": [
       "('love',\n",
       " {'anger': 0.664644269272685,\n",
       "  'fear': 0.13790680095553398,\n",
       "  'joy': 31.19540512561798,\n",
       "  'love': 66.0341739654541,\n",
       "  'sadness': 1.9678687676787376})"
      ]
     },
     "execution_count": 10,
     "metadata": {},
     "output_type": "execute_result"
    }
   ],
   "source": [
    "predict(\"she has a beautiful eyes and mesmerizing voice\")"
   ]
  }
 ],
 "metadata": {
  "kernelspec": {
   "display_name": "Python 3 (ipykernel)",
   "language": "python",
   "name": "python3"
  },
  "language_info": {
   "codemirror_mode": {
    "name": "ipython",
    "version": 3
   },
   "file_extension": ".py",
   "mimetype": "text/x-python",
   "name": "python",
   "nbconvert_exporter": "python",
   "pygments_lexer": "ipython3",
   "version": "3.11.1"
  }
 },
 "nbformat": 4,
 "nbformat_minor": 5
}
