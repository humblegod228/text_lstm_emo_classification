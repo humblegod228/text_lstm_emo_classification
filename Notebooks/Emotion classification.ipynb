{
 "cells": [
  {
   "cell_type": "markdown",
   "id": "faf65d0e",
   "metadata": {},
   "source": [
    "### Importing Necessary Libraries"
   ]
  },
  {
   "cell_type": "code",
   "execution_count": 1,
   "id": "cd593bfa",
   "metadata": {},
   "outputs": [],
   "source": [
    "import numpy as np\n",
    "import pandas as pd\n",
    "import seaborn as sns\n",
    "import matplotlib.pyplot as plt"
   ]
  },
  {
   "cell_type": "markdown",
   "id": "480d22a2",
   "metadata": {},
   "source": [
    "### Loading the Data"
   ]
  },
  {
   "cell_type": "code",
   "execution_count": 2,
   "id": "b889e127",
   "metadata": {},
   "outputs": [],
   "source": [
    "txt = open(\"data.txt\",\"r\")\n",
    "txt = pd.DataFrame(txt)"
   ]
  },
  {
   "cell_type": "code",
   "execution_count": 3,
   "id": "6eff662f",
   "metadata": {},
   "outputs": [],
   "source": [
    "df = pd.DataFrame()\n",
    "df[\"Text\"] = txt[0].transform(lambda x : x.split(\";\")[0])\n",
    "df[\"Label\"] = txt[0].transform(lambda x : x.split(\";\")[1][:-1])"
   ]
  },
  {
   "cell_type": "code",
   "execution_count": 4,
   "id": "216585f2",
   "metadata": {},
   "outputs": [
    {
     "name": "stdout",
     "output_type": "stream",
     "text": [
      "(16000, 2)\n"
     ]
    },
    {
     "data": {
      "text/html": [
       "<div>\n",
       "<style scoped>\n",
       "    .dataframe tbody tr th:only-of-type {\n",
       "        vertical-align: middle;\n",
       "    }\n",
       "\n",
       "    .dataframe tbody tr th {\n",
       "        vertical-align: top;\n",
       "    }\n",
       "\n",
       "    .dataframe thead th {\n",
       "        text-align: right;\n",
       "    }\n",
       "</style>\n",
       "<table border=\"1\" class=\"dataframe\">\n",
       "  <thead>\n",
       "    <tr style=\"text-align: right;\">\n",
       "      <th></th>\n",
       "      <th>Text</th>\n",
       "      <th>Label</th>\n",
       "    </tr>\n",
       "  </thead>\n",
       "  <tbody>\n",
       "    <tr>\n",
       "      <th>0</th>\n",
       "      <td>i didnt feel humiliated</td>\n",
       "      <td>sadness</td>\n",
       "    </tr>\n",
       "    <tr>\n",
       "      <th>1</th>\n",
       "      <td>i can go from feeling so hopeless to so damned...</td>\n",
       "      <td>sadness</td>\n",
       "    </tr>\n",
       "    <tr>\n",
       "      <th>2</th>\n",
       "      <td>im grabbing a minute to post i feel greedy wrong</td>\n",
       "      <td>anger</td>\n",
       "    </tr>\n",
       "    <tr>\n",
       "      <th>3</th>\n",
       "      <td>i am ever feeling nostalgic about the fireplac...</td>\n",
       "      <td>love</td>\n",
       "    </tr>\n",
       "    <tr>\n",
       "      <th>4</th>\n",
       "      <td>i am feeling grouchy</td>\n",
       "      <td>anger</td>\n",
       "    </tr>\n",
       "  </tbody>\n",
       "</table>\n",
       "</div>"
      ],
      "text/plain": [
       "                                                Text    Label\n",
       "0                            i didnt feel humiliated  sadness\n",
       "1  i can go from feeling so hopeless to so damned...  sadness\n",
       "2   im grabbing a minute to post i feel greedy wrong    anger\n",
       "3  i am ever feeling nostalgic about the fireplac...     love\n",
       "4                               i am feeling grouchy    anger"
      ]
     },
     "execution_count": 4,
     "metadata": {},
     "output_type": "execute_result"
    }
   ],
   "source": [
    "print(df.shape)\n",
    "df.head()"
   ]
  },
  {
   "cell_type": "markdown",
   "id": "c96b2a54",
   "metadata": {},
   "source": [
    "### Data Preprocessing"
   ]
  },
  {
   "cell_type": "code",
   "execution_count": 5,
   "id": "e51c94e9",
   "metadata": {},
   "outputs": [
    {
     "data": {
      "text/plain": [
       "joy         5362\n",
       "sadness     4666\n",
       "anger       2159\n",
       "fear        1937\n",
       "love        1304\n",
       "surprise     572\n",
       "Name: Label, dtype: int64"
      ]
     },
     "execution_count": 5,
     "metadata": {},
     "output_type": "execute_result"
    }
   ],
   "source": [
    "df[\"Label\"].value_counts()"
   ]
  },
  {
   "cell_type": "markdown",
   "id": "b301b4e9",
   "metadata": {},
   "source": [
    "We will drop the surprise column as it is highly imbalanced"
   ]
  },
  {
   "cell_type": "code",
   "execution_count": 6,
   "id": "201eaad8",
   "metadata": {},
   "outputs": [],
   "source": [
    "df = df[df[\"Label\"] != \"surprise\"]"
   ]
  },
  {
   "cell_type": "code",
   "execution_count": 7,
   "id": "bc9d08ca",
   "metadata": {},
   "outputs": [
    {
     "data": {
      "text/plain": [
       "<AxesSubplot: xlabel='Label', ylabel='count'>"
      ]
     },
     "execution_count": 7,
     "metadata": {},
     "output_type": "execute_result"
    },
    {
     "data": {
      "image/png": "[encoded data removed]",
      "text/plain": [
       "<Figure size 640x480 with 1 Axes>"
      ]
     },
     "metadata": {},
     "output_type": "display_data"
    }
   ],
   "source": [
    "sns.countplot(x=df[\"Label\"])"
   ]
  },
  {
   "cell_type": "code",
   "execution_count": 8,
   "id": "a10d8584",
   "metadata": {},
   "outputs": [
    {
     "data": {
      "text/plain": [
       "Text     0\n",
       "Label    0\n",
       "dtype: int64"
      ]
     },
     "execution_count": 8,
     "metadata": {},
     "output_type": "execute_result"
    }
   ],
   "source": [
    "df.isnull().sum()"
   ]
  },
  {
   "cell_type": "code",
   "execution_count": 9,
   "id": "fe4fdc41",
   "metadata": {},
   "outputs": [
    {
     "name": "stdout",
     "output_type": "stream",
     "text": [
      "1\n"
     ]
    }
   ],
   "source": [
    "# Removing Duplicate Value\n",
    "print(df.duplicated().sum())\n",
    "df = df.drop_duplicates()\n",
    "df.reset_index(inplace=True,drop=True)"
   ]
  },
  {
   "cell_type": "markdown",
   "id": "2688f6aa",
   "metadata": {},
   "source": [
    "Checking if there are rows having the same text but different emotions "
   ]
  },
  {
   "cell_type": "code",
   "execution_count": 10,
   "id": "7f895503",
   "metadata": {},
   "outputs": [
    {
     "name": "stdout",
     "output_type": "stream",
     "text": [
      "23\n"
     ]
    },
    {
     "data": {
      "text/html": [
       "<div>\n",
       "<style scoped>\n",
       "    .dataframe tbody tr th:only-of-type {\n",
       "        vertical-align: middle;\n",
       "    }\n",
       "\n",
       "    .dataframe tbody tr th {\n",
       "        vertical-align: top;\n",
       "    }\n",
       "\n",
       "    .dataframe thead th {\n",
       "        text-align: right;\n",
       "    }\n",
       "</style>\n",
       "<table border=\"1\" class=\"dataframe\">\n",
       "  <thead>\n",
       "    <tr style=\"text-align: right;\">\n",
       "      <th></th>\n",
       "      <th>Text</th>\n",
       "      <th>Label</th>\n",
       "    </tr>\n",
       "  </thead>\n",
       "  <tbody>\n",
       "    <tr>\n",
       "      <th>4864</th>\n",
       "      <td>i feel on the verge of tears from weariness i ...</td>\n",
       "      <td>joy</td>\n",
       "    </tr>\n",
       "    <tr>\n",
       "      <th>5883</th>\n",
       "      <td>i still feel a craving for sweet food</td>\n",
       "      <td>love</td>\n",
       "    </tr>\n",
       "    <tr>\n",
       "      <th>6295</th>\n",
       "      <td>i tend to stop breathing when i m feeling stre...</td>\n",
       "      <td>anger</td>\n",
       "    </tr>\n",
       "    <tr>\n",
       "      <th>7316</th>\n",
       "      <td>i was intensely conscious of how much cash i h...</td>\n",
       "      <td>sadness</td>\n",
       "    </tr>\n",
       "    <tr>\n",
       "      <th>7915</th>\n",
       "      <td>i am not amazing or great at photography but i...</td>\n",
       "      <td>love</td>\n",
       "    </tr>\n",
       "  </tbody>\n",
       "</table>\n",
       "</div>"
      ],
      "text/plain": [
       "                                                   Text    Label\n",
       "4864  i feel on the verge of tears from weariness i ...      joy\n",
       "5883              i still feel a craving for sweet food     love\n",
       "6295  i tend to stop breathing when i m feeling stre...    anger\n",
       "7316  i was intensely conscious of how much cash i h...  sadness\n",
       "7915  i am not amazing or great at photography but i...     love"
      ]
     },
     "execution_count": 10,
     "metadata": {},
     "output_type": "execute_result"
    }
   ],
   "source": [
    "print(df[\"Text\"].duplicated().sum())\n",
    "df[df[\"Text\"].duplicated() == True].head()"
   ]
  },
  {
   "cell_type": "code",
   "execution_count": 11,
   "id": "f49f004e",
   "metadata": {},
   "outputs": [
    {
     "data": {
      "text/html": [
       "<div>\n",
       "<style scoped>\n",
       "    .dataframe tbody tr th:only-of-type {\n",
       "        vertical-align: middle;\n",
       "    }\n",
       "\n",
       "    .dataframe tbody tr th {\n",
       "        vertical-align: top;\n",
       "    }\n",
       "\n",
       "    .dataframe thead th {\n",
       "        text-align: right;\n",
       "    }\n",
       "</style>\n",
       "<table border=\"1\" class=\"dataframe\">\n",
       "  <thead>\n",
       "    <tr style=\"text-align: right;\">\n",
       "      <th></th>\n",
       "      <th>Text</th>\n",
       "      <th>Label</th>\n",
       "    </tr>\n",
       "  </thead>\n",
       "  <tbody>\n",
       "    <tr>\n",
       "      <th>1442</th>\n",
       "      <td>i feel on the verge of tears from weariness i ...</td>\n",
       "      <td>love</td>\n",
       "    </tr>\n",
       "    <tr>\n",
       "      <th>4864</th>\n",
       "      <td>i feel on the verge of tears from weariness i ...</td>\n",
       "      <td>joy</td>\n",
       "    </tr>\n",
       "  </tbody>\n",
       "</table>\n",
       "</div>"
      ],
      "text/plain": [
       "                                                   Text Label\n",
       "1442  i feel on the verge of tears from weariness i ...  love\n",
       "4864  i feel on the verge of tears from weariness i ...   joy"
      ]
     },
     "execution_count": 11,
     "metadata": {},
     "output_type": "execute_result"
    }
   ],
   "source": [
    "df[df[\"Text\"] == df.iloc[4864][\"Text\"]]"
   ]
  },
  {
   "cell_type": "code",
   "execution_count": 12,
   "id": "7ac7eb62",
   "metadata": {},
   "outputs": [],
   "source": [
    "# Removing Duplicate Value\n",
    "index = df[df[\"Text\"].duplicated() == True].index\n",
    "df.drop(index,axis=0, inplace=True)\n",
    "df.reset_index(inplace=True, drop=True)"
   ]
  },
  {
   "cell_type": "code",
   "execution_count": 13,
   "id": "71423120",
   "metadata": {},
   "outputs": [
    {
     "name": "stdout",
     "output_type": "stream",
     "text": [
      "Shape : (15404, 2)\n"
     ]
    }
   ],
   "source": [
    "print(\"Shape :\", df.shape)"
   ]
  },
  {
   "cell_type": "markdown",
   "id": "5d799dbc",
   "metadata": {},
   "source": [
    "### Text Preprocessing "
   ]
  },
  {
   "cell_type": "code",
   "execution_count": 14,
   "id": "5bcdaca2",
   "metadata": {},
   "outputs": [],
   "source": [
    "import re\n",
    "\n",
    "import nltk\n",
    "from nltk.corpus import stopwords\n",
    "from nltk.tokenize import word_tokenize\n",
    "from nltk.stem import WordNetLemmatizer"
   ]
  },
  {
   "cell_type": "code",
   "execution_count": 15,
   "id": "f8e138b9",
   "metadata": {},
   "outputs": [],
   "source": [
    "def text_preprocessing(text):\n",
    "    \n",
    "    # Remove punctuations and numbers\n",
    "    text = re.sub(\"[^a-zA-Z]\",\" \",text.lower())\n",
    "    text = re.sub(r\"\\s+\",' ',text)\n",
    "    \n",
    "    # Tokenization\n",
    "    token = word_tokenize(text)\n",
    "    \n",
    "    # Remove StopWords\n",
    "    token = [i for i in token if i not in stopwords.words(\"english\")]\n",
    "    \n",
    "    # Lemmatization\n",
    "    lemmatizer = WordNetLemmatizer()\n",
    "    token = [lemmatizer.lemmatize(word) for word in token]\n",
    "    \n",
    "    processed_text = \" \".join(token)\n",
    "    return processed_text"
   ]
  },
  {
   "cell_type": "code",
   "execution_count": 16,
   "id": "3c9524b5",
   "metadata": {},
   "outputs": [],
   "source": [
    "df[\"Text\"] = df[\"Text\"].apply(lambda x : text_preprocessing(x))"
   ]
  },
  {
   "cell_type": "markdown",
   "id": "83e16fa0",
   "metadata": {},
   "source": [
    "### LabelEncoding "
   ]
  },
  {
   "cell_type": "code",
   "execution_count": 17,
   "id": "a6e2d0ba",
   "metadata": {},
   "outputs": [],
   "source": [
    "from sklearn.preprocessing import LabelEncoder\n",
    "\n",
    "encoder = LabelEncoder()\n",
    "df[\"Label\"] = encoder.fit_transform(df[\"Label\"])"
   ]
  },
  {
   "cell_type": "code",
   "execution_count": 18,
   "id": "f5eabf24",
   "metadata": {},
   "outputs": [],
   "source": [
    "# Save Encoder\n",
    "import pickle\n",
    "\n",
    "# saving\n",
    "with open('encoder.pickle', 'wb') as handle:\n",
    "    pickle.dump(encoder, handle, protocol=pickle.HIGHEST_PROTOCOL)"
   ]
  },
  {
   "cell_type": "code",
   "execution_count": 19,
   "id": "e9ebe72f",
   "metadata": {},
   "outputs": [
    {
     "data": {
      "text/html": [
       "<div>\n",
       "<style scoped>\n",
       "    .dataframe tbody tr th:only-of-type {\n",
       "        vertical-align: middle;\n",
       "    }\n",
       "\n",
       "    .dataframe tbody tr th {\n",
       "        vertical-align: top;\n",
       "    }\n",
       "\n",
       "    .dataframe thead th {\n",
       "        text-align: right;\n",
       "    }\n",
       "</style>\n",
       "<table border=\"1\" class=\"dataframe\">\n",
       "  <thead>\n",
       "    <tr style=\"text-align: right;\">\n",
       "      <th></th>\n",
       "      <th>Text</th>\n",
       "      <th>Label</th>\n",
       "    </tr>\n",
       "  </thead>\n",
       "  <tbody>\n",
       "    <tr>\n",
       "      <th>0</th>\n",
       "      <td>didnt feel humiliated</td>\n",
       "      <td>4</td>\n",
       "    </tr>\n",
       "    <tr>\n",
       "      <th>1</th>\n",
       "      <td>go feeling hopeless damned hopeful around some...</td>\n",
       "      <td>4</td>\n",
       "    </tr>\n",
       "    <tr>\n",
       "      <th>2</th>\n",
       "      <td>im grabbing minute post feel greedy wrong</td>\n",
       "      <td>0</td>\n",
       "    </tr>\n",
       "    <tr>\n",
       "      <th>3</th>\n",
       "      <td>ever feeling nostalgic fireplace know still pr...</td>\n",
       "      <td>3</td>\n",
       "    </tr>\n",
       "    <tr>\n",
       "      <th>4</th>\n",
       "      <td>feeling grouchy</td>\n",
       "      <td>0</td>\n",
       "    </tr>\n",
       "  </tbody>\n",
       "</table>\n",
       "</div>"
      ],
      "text/plain": [
       "                                                Text  Label\n",
       "0                              didnt feel humiliated      4\n",
       "1  go feeling hopeless damned hopeful around some...      4\n",
       "2          im grabbing minute post feel greedy wrong      0\n",
       "3  ever feeling nostalgic fireplace know still pr...      3\n",
       "4                                    feeling grouchy      0"
      ]
     },
     "execution_count": 19,
     "metadata": {},
     "output_type": "execute_result"
    }
   ],
   "source": [
    "df.head()"
   ]
  },
  {
   "cell_type": "markdown",
   "id": "ad226633",
   "metadata": {},
   "source": [
    "## Train Test Split"
   ]
  },
  {
   "cell_type": "code",
   "execution_count": 20,
   "id": "513e022f",
   "metadata": {},
   "outputs": [],
   "source": [
    "x = df.iloc[:,:-1]\n",
    "y = df.iloc[:,-1]"
   ]
  },
  {
   "cell_type": "code",
   "execution_count": 21,
   "id": "7a9bec68",
   "metadata": {},
   "outputs": [],
   "source": [
    "y = pd.get_dummies(y)"
   ]
  },
  {
   "cell_type": "code",
   "execution_count": 22,
   "id": "ae0dc3fe",
   "metadata": {},
   "outputs": [],
   "source": [
    "from sklearn.model_selection import train_test_split\n",
    "\n",
    "x_train,x_test,y_train,y_test = train_test_split(x,y,test_size=0.2,random_state=69)"
   ]
  },
  {
   "cell_type": "markdown",
   "id": "e58201f0",
   "metadata": {},
   "source": [
    "## Preparing Embedding Layer"
   ]
  },
  {
   "cell_type": "code",
   "execution_count": 23,
   "id": "d3ca3204",
   "metadata": {},
   "outputs": [],
   "source": [
    "from keras.preprocessing.text import Tokenizer,one_hot\n",
    "from keras.utils import pad_sequences"
   ]
  },
  {
   "cell_type": "code",
   "execution_count": 24,
   "id": "6aa41ce1",
   "metadata": {},
   "outputs": [],
   "source": [
    "word_tokenizer = Tokenizer()\n",
    "word_tokenizer.fit_on_texts(x_train[\"Text\"])\n",
    "\n",
    "x_train = word_tokenizer.texts_to_sequences(x_train[\"Text\"])\n",
    "x_test = word_tokenizer.texts_to_sequences(x_test[\"Text\"])"
   ]
  },
  {
   "cell_type": "code",
   "execution_count": 25,
   "id": "7a5706ba",
   "metadata": {},
   "outputs": [],
   "source": [
    "# Save Tokenizer\n",
    "import pickle\n",
    "\n",
    "# saving\n",
    "with open('tokenizer.pickle', 'wb') as handle:\n",
    "    pickle.dump(word_tokenizer, handle, protocol=pickle.HIGHEST_PROTOCOL)"
   ]
  },
  {
   "cell_type": "code",
   "execution_count": 26,
   "id": "9c8293f3",
   "metadata": {},
   "outputs": [
    {
     "name": "stdout",
     "output_type": "stream",
     "text": [
      "11709\n"
     ]
    }
   ],
   "source": [
    "# Adding one to store dim for words for which no pretrained word embeddings exist\n",
    "vocab_length = len(word_tokenizer.word_index) + 1\n",
    "print(vocab_length)"
   ]
  },
  {
   "cell_type": "code",
   "execution_count": 27,
   "id": "9057f786",
   "metadata": {},
   "outputs": [
    {
     "name": "stdout",
     "output_type": "stream",
     "text": [
      "Maximum Length of the sentence in the corpus : 35\n"
     ]
    }
   ],
   "source": [
    "# Padding all the text\n",
    "\n",
    "print(\"Maximum Length of the sentence in the corpus :\", max([len(i) for i in x_train]))\n",
    "\n",
    "max_len = 35\n",
    "\n",
    "x_train = pad_sequences(x_train,padding=\"post\",maxlen=max_len)\n",
    "x_test = pad_sequences(x_test,padding=\"post\",maxlen=max_len)"
   ]
  },
  {
   "cell_type": "code",
   "execution_count": 28,
   "id": "fdabe141",
   "metadata": {},
   "outputs": [],
   "source": [
    "# Load GloVe Word Embeddings and Create Embedding Dict\n",
    "\n",
    "embedding_dict = dict()\n",
    "glove_file = open(\"a2_glove.6B.100d.txt\", encoding=\"utf8\")\n",
    "\n",
    "for line in glove_file:\n",
    "    data = line.split()\n",
    "    word = data[0]\n",
    "    vec = np.asarray(data[1:51],dtype=\"float32\")\n",
    "    embedding_dict[word] = vec\n",
    "glove_file.close()"
   ]
  },
  {
   "cell_type": "code",
   "execution_count": 29,
   "id": "8384023c",
   "metadata": {},
   "outputs": [],
   "source": [
    "# Create Embedding Matrix having 50 Columns \n",
    "\n",
    "embedding_matrix = np.zeros((vocab_length,50))\n",
    "for word,index in word_tokenizer.word_index.items():\n",
    "    embedding_vector = embedding_dict.get(word)\n",
    "    if embedding_vector is not None:\n",
    "        embedding_matrix[index] = embedding_vector"
   ]
  },
  {
   "cell_type": "code",
   "execution_count": 30,
   "id": "ec28b742",
   "metadata": {},
   "outputs": [
    {
     "data": {
      "text/plain": [
       "(11709, 50)"
      ]
     },
     "execution_count": 30,
     "metadata": {},
     "output_type": "execute_result"
    }
   ],
   "source": [
    "embedding_matrix.shape"
   ]
  },
  {
   "cell_type": "markdown",
   "id": "625cf949",
   "metadata": {},
   "source": [
    "## Simple Neural Network "
   ]
  },
  {
   "cell_type": "code",
   "execution_count": 31,
   "id": "de36093b",
   "metadata": {},
   "outputs": [],
   "source": [
    "import tensorflow as tf\n",
    "from tensorflow import keras"
   ]
  },
  {
   "cell_type": "code",
   "execution_count": 32,
   "id": "750087e4",
   "metadata": {},
   "outputs": [],
   "source": [
    "model_nn = keras.Sequential(\n",
    "           [keras.layers.Embedding(vocab_length,50,weights=[embedding_matrix],input_length=max_len,trainable=False),\n",
    "            keras.layers.Flatten(),\n",
    "            keras.layers.Dense(5,activation=\"softmax\")\n",
    "           ])"
   ]
  },
  {
   "cell_type": "code",
   "execution_count": 33,
   "id": "8e1ded74",
   "metadata": {},
   "outputs": [],
   "source": [
    "model_nn.compile(optimizer='adam',loss=\"categorical_crossentropy\",metrics=['acc'])"
   ]
  },
  {
   "cell_type": "code",
   "execution_count": 34,
   "id": "dfd4ee59",
   "metadata": {},
   "outputs": [
    {
     "name": "stdout",
     "output_type": "stream",
     "text": [
      "Model: \"sequential\"\n",
      "_________________________________________________________________\n",
      " Layer (type)                Output Shape              Param #   \n",
      "=================================================================\n",
      " embedding (Embedding)       (None, 35, 50)            585450    \n",
      "                                                                 \n",
      " flatten (Flatten)           (None, 1750)              0         \n",
      "                                                                 \n",
      " dense (Dense)               (None, 5)                 8755      \n",
      "                                                                 \n",
      "=================================================================\n",
      "Total params: 594,205\n",
      "Trainable params: 8,755\n",
      "Non-trainable params: 585,450\n",
      "_________________________________________________________________\n"
     ]
    }
   ],
   "source": [
    "model_nn.summary()"
   ]
  },
  {
   "cell_type": "code",
   "execution_count": 35,
   "id": "d4a7347f",
   "metadata": {},
   "outputs": [
    {
     "name": "stdout",
     "output_type": "stream",
     "text": [
      "Epoch 1/30\n",
      "78/78 [==============================] - 1s 4ms/step - loss: 1.4566 - acc: 0.3921 - val_loss: 1.3756 - val_acc: 0.4807\n",
      "Epoch 2/30\n",
      "78/78 [==============================] - 0s 2ms/step - loss: 1.3103 - acc: 0.4923 - val_loss: 1.3098 - val_acc: 0.4921\n",
      "Epoch 3/30\n",
      "78/78 [==============================] - 0s 2ms/step - loss: 1.2361 - acc: 0.5248 - val_loss: 1.2737 - val_acc: 0.5018\n",
      "Epoch 4/30\n",
      "78/78 [==============================] - 0s 2ms/step - loss: 1.1894 - acc: 0.5469 - val_loss: 1.2556 - val_acc: 0.5103\n",
      "Epoch 5/30\n",
      "78/78 [==============================] - 0s 2ms/step - loss: 1.1535 - acc: 0.5569 - val_loss: 1.2437 - val_acc: 0.5116\n",
      "Epoch 6/30\n",
      "78/78 [==============================] - 0s 2ms/step - loss: 1.1256 - acc: 0.5690 - val_loss: 1.2337 - val_acc: 0.5160\n",
      "Epoch 7/30\n",
      "78/78 [==============================] - 0s 2ms/step - loss: 1.1014 - acc: 0.5814 - val_loss: 1.2264 - val_acc: 0.5233\n",
      "Epoch 8/30\n",
      "78/78 [==============================] - 0s 2ms/step - loss: 1.0811 - acc: 0.5907 - val_loss: 1.2250 - val_acc: 0.5262\n",
      "Epoch 9/30\n",
      "78/78 [==============================] - 0s 2ms/step - loss: 1.0669 - acc: 0.5980 - val_loss: 1.2219 - val_acc: 0.5298\n",
      "Epoch 10/30\n",
      "78/78 [==============================] - 0s 2ms/step - loss: 1.0544 - acc: 0.6039 - val_loss: 1.2195 - val_acc: 0.5290\n",
      "Epoch 11/30\n",
      "78/78 [==============================] - 0s 2ms/step - loss: 1.0413 - acc: 0.6078 - val_loss: 1.2201 - val_acc: 0.5335\n",
      "Epoch 12/30\n",
      "78/78 [==============================] - 0s 2ms/step - loss: 1.0294 - acc: 0.6174 - val_loss: 1.2196 - val_acc: 0.5339\n",
      "Epoch 13/30\n",
      "78/78 [==============================] - 0s 2ms/step - loss: 1.0216 - acc: 0.6149 - val_loss: 1.2202 - val_acc: 0.5298\n",
      "Epoch 14/30\n",
      "78/78 [==============================] - 0s 2ms/step - loss: 1.0124 - acc: 0.6167 - val_loss: 1.2249 - val_acc: 0.5318\n",
      "Epoch 15/30\n",
      "78/78 [==============================] - 0s 2ms/step - loss: 1.0028 - acc: 0.6247 - val_loss: 1.2243 - val_acc: 0.5294\n",
      "Epoch 16/30\n",
      "78/78 [==============================] - 0s 2ms/step - loss: 0.9972 - acc: 0.6247 - val_loss: 1.2282 - val_acc: 0.5331\n",
      "Epoch 17/30\n",
      "78/78 [==============================] - 0s 2ms/step - loss: 0.9906 - acc: 0.6293 - val_loss: 1.2323 - val_acc: 0.5314\n",
      "Epoch 18/30\n",
      "78/78 [==============================] - 0s 2ms/step - loss: 0.9840 - acc: 0.6291 - val_loss: 1.2325 - val_acc: 0.5323\n",
      "Epoch 19/30\n",
      "78/78 [==============================] - 0s 2ms/step - loss: 0.9779 - acc: 0.6331 - val_loss: 1.2361 - val_acc: 0.5359\n",
      "Epoch 20/30\n",
      "78/78 [==============================] - 0s 2ms/step - loss: 0.9725 - acc: 0.6342 - val_loss: 1.2418 - val_acc: 0.5323\n",
      "Epoch 21/30\n",
      "78/78 [==============================] - 0s 2ms/step - loss: 0.9705 - acc: 0.6324 - val_loss: 1.2441 - val_acc: 0.5310\n",
      "Epoch 22/30\n",
      "78/78 [==============================] - 0s 2ms/step - loss: 0.9634 - acc: 0.6384 - val_loss: 1.2414 - val_acc: 0.5343\n",
      "Epoch 23/30\n",
      "78/78 [==============================] - 0s 2ms/step - loss: 0.9604 - acc: 0.6384 - val_loss: 1.2462 - val_acc: 0.5355\n",
      "Epoch 24/30\n",
      "78/78 [==============================] - 0s 2ms/step - loss: 0.9579 - acc: 0.6380 - val_loss: 1.2515 - val_acc: 0.5339\n",
      "Epoch 25/30\n",
      "78/78 [==============================] - 0s 2ms/step - loss: 0.9517 - acc: 0.6438 - val_loss: 1.2544 - val_acc: 0.5294\n",
      "Epoch 26/30\n",
      "78/78 [==============================] - 0s 2ms/step - loss: 0.9515 - acc: 0.6410 - val_loss: 1.2549 - val_acc: 0.5306\n",
      "Epoch 27/30\n",
      "78/78 [==============================] - 0s 2ms/step - loss: 0.9456 - acc: 0.6426 - val_loss: 1.2561 - val_acc: 0.5335\n",
      "Epoch 28/30\n",
      "78/78 [==============================] - 0s 2ms/step - loss: 0.9442 - acc: 0.6461 - val_loss: 1.2604 - val_acc: 0.5404\n",
      "Epoch 29/30\n",
      "78/78 [==============================] - 0s 2ms/step - loss: 0.9386 - acc: 0.6453 - val_loss: 1.2648 - val_acc: 0.5355\n",
      "Epoch 30/30\n",
      "78/78 [==============================] - 0s 2ms/step - loss: 0.9363 - acc: 0.6487 - val_loss: 1.2654 - val_acc: 0.5351\n"
     ]
    }
   ],
   "source": [
    "# Training \n",
    "\n",
    "model_nn_history = model_nn.fit(x_train,y_train,batch_size=128,epochs=30,validation_split=0.2)"
   ]
  },
  {
   "cell_type": "code",
   "execution_count": 36,
   "id": "8734d4a6",
   "metadata": {},
   "outputs": [
    {
     "name": "stdout",
     "output_type": "stream",
     "text": [
      "97/97 [==============================] - 0s 1ms/step - loss: 1.1940 - acc: 0.5501\n"
     ]
    }
   ],
   "source": [
    "# Evaluation on Test Set\n",
    "\n",
    "score = model_nn.evaluate(x_test,y_test,verbose=1)"
   ]
  },
  {
   "cell_type": "code",
   "execution_count": 37,
   "id": "dea7ab9d",
   "metadata": {},
   "outputs": [
    {
     "name": "stdout",
     "output_type": "stream",
     "text": [
      "Test Score : 1.1940017938613892\n",
      "Test Accuracy : 0.5501460433006287\n"
     ]
    }
   ],
   "source": [
    "print(\"Test Score :\",score[0])\n",
    "print(\"Test Accuracy :\",score[1])"
   ]
  },
  {
   "cell_type": "code",
   "execution_count": 38,
   "id": "6e73ff7c",
   "metadata": {},
   "outputs": [
    {
     "data": {
      "image/png": "[encoded data removed]",
      "text/plain": [
       "<Figure size 640x480 with 1 Axes>"
      ]
     },
     "metadata": {},
     "output_type": "display_data"
    },
    {
     "data": {
      "image/png": "[encoded data removed]",
      "text/plain": [
       "<Figure size 640x480 with 1 Axes>"
      ]
     },
     "metadata": {},
     "output_type": "display_data"
    }
   ],
   "source": [
    "# Model Performance Chart\n",
    "\n",
    "plt.plot(model_nn_history.history[\"acc\"])\n",
    "plt.plot(model_nn_history.history[\"val_acc\"])\n",
    "\n",
    "plt.title('model accuracy')\n",
    "plt.ylabel(\"accuracy\")\n",
    "plt.xlabel(\"epoch\")\n",
    "plt.legend([\"train\",\"Test\"])\n",
    "plt.show()\n",
    "\n",
    "plt.plot(model_nn_history.history[\"loss\"])\n",
    "plt.plot(model_nn_history.history[\"val_loss\"])\n",
    "\n",
    "plt.title('model loss')\n",
    "plt.ylabel(\"loss\")\n",
    "plt.xlabel(\"epoch\")\n",
    "plt.legend([\"train\",\"Test\"])\n",
    "plt.show()"
   ]
  },
  {
   "cell_type": "markdown",
   "id": "bfbe2c17",
   "metadata": {},
   "source": [
    "## LSTM  Long Short-Term Memory "
   ]
  },
  {
   "cell_type": "code",
   "execution_count": 39,
   "id": "b99764c5",
   "metadata": {},
   "outputs": [],
   "source": [
    "lstm_model = keras.Sequential(\n",
    "             [keras.layers.Embedding(vocab_length,50,weights=[embedding_matrix],input_length=max_len,trainable=False),\n",
    "              keras.layers.LSTM(128),\n",
    "              keras.layers.Dense(5,activation=\"softmax\"),\n",
    "             ])"
   ]
  },
  {
   "cell_type": "code",
   "execution_count": 40,
   "id": "1576f33f",
   "metadata": {},
   "outputs": [],
   "source": [
    "opt = keras.optimizers.Adam(learning_rate=0.003)\n",
    "lstm_model.compile(optimizer=opt,loss='categorical_crossentropy',metrics=['acc'])"
   ]
  },
  {
   "cell_type": "code",
   "execution_count": 41,
   "id": "b183d349",
   "metadata": {},
   "outputs": [
    {
     "name": "stdout",
     "output_type": "stream",
     "text": [
      "Model: \"sequential_1\"\n",
      "_________________________________________________________________\n",
      " Layer (type)                Output Shape              Param #   \n",
      "=================================================================\n",
      " embedding_1 (Embedding)     (None, 35, 50)            585450    \n",
      "                                                                 \n",
      " lstm (LSTM)                 (None, 128)               91648     \n",
      "                                                                 \n",
      " dense_1 (Dense)             (None, 5)                 645       \n",
      "                                                                 \n",
      "=================================================================\n",
      "Total params: 677,743\n",
      "Trainable params: 92,293\n",
      "Non-trainable params: 585,450\n",
      "_________________________________________________________________\n"
     ]
    }
   ],
   "source": [
    "lstm_model.summary()"
   ]
  },
  {
   "cell_type": "code",
   "execution_count": 42,
   "id": "cec98fba",
   "metadata": {},
   "outputs": [
    {
     "name": "stdout",
     "output_type": "stream",
     "text": [
      "Epoch 1/30\n",
      "78/78 [==============================] - 6s 56ms/step - loss: 1.3876 - acc: 0.4292 - val_loss: 1.2426 - val_acc: 0.5294\n",
      "Epoch 2/30\n",
      "78/78 [==============================] - 4s 55ms/step - loss: 1.2125 - acc: 0.5301 - val_loss: 1.1308 - val_acc: 0.5623\n",
      "Epoch 3/30\n",
      "78/78 [==============================] - 4s 53ms/step - loss: 1.1392 - acc: 0.5533 - val_loss: 1.0877 - val_acc: 0.5659\n",
      "Epoch 4/30\n",
      "78/78 [==============================] - 4s 54ms/step - loss: 1.0543 - acc: 0.5779 - val_loss: 1.0623 - val_acc: 0.5736\n",
      "Epoch 5/30\n",
      "78/78 [==============================] - 4s 54ms/step - loss: 0.9551 - acc: 0.6279 - val_loss: 1.1112 - val_acc: 0.6219\n",
      "Epoch 6/30\n",
      "78/78 [==============================] - 4s 55ms/step - loss: 0.8650 - acc: 0.6715 - val_loss: 0.8506 - val_acc: 0.6832\n",
      "Epoch 7/30\n",
      "78/78 [==============================] - 4s 53ms/step - loss: 0.7408 - acc: 0.7328 - val_loss: 0.8144 - val_acc: 0.6905\n",
      "Epoch 8/30\n",
      "78/78 [==============================] - 4s 55ms/step - loss: 0.6545 - acc: 0.7480 - val_loss: 0.6811 - val_acc: 0.7542\n",
      "Epoch 9/30\n",
      "78/78 [==============================] - 4s 56ms/step - loss: 0.4933 - acc: 0.8139 - val_loss: 0.5402 - val_acc: 0.8032\n",
      "Epoch 10/30\n",
      "78/78 [==============================] - 4s 56ms/step - loss: 0.3907 - acc: 0.8603 - val_loss: 0.5125 - val_acc: 0.8300\n",
      "Epoch 11/30\n",
      "78/78 [==============================] - 4s 54ms/step - loss: 0.3238 - acc: 0.8857 - val_loss: 0.5097 - val_acc: 0.8288\n",
      "Epoch 12/30\n",
      "78/78 [==============================] - 4s 55ms/step - loss: 0.3659 - acc: 0.8677 - val_loss: 0.6556 - val_acc: 0.7947\n",
      "Epoch 13/30\n",
      "78/78 [==============================] - 4s 55ms/step - loss: 0.3886 - acc: 0.8653 - val_loss: 0.4920 - val_acc: 0.8345\n",
      "Epoch 14/30\n",
      "78/78 [==============================] - 4s 55ms/step - loss: 0.2372 - acc: 0.9176 - val_loss: 0.5125 - val_acc: 0.8467\n",
      "Epoch 15/30\n",
      "78/78 [==============================] - 4s 57ms/step - loss: 0.2705 - acc: 0.8950 - val_loss: 0.4720 - val_acc: 0.8604\n",
      "Epoch 16/30\n",
      "78/78 [==============================] - 4s 54ms/step - loss: 0.1868 - acc: 0.9353 - val_loss: 0.4192 - val_acc: 0.8686\n",
      "Epoch 17/30\n",
      "78/78 [==============================] - 4s 55ms/step - loss: 0.1855 - acc: 0.9353 - val_loss: 0.4525 - val_acc: 0.8592\n",
      "Epoch 18/30\n",
      "78/78 [==============================] - 4s 55ms/step - loss: 0.1730 - acc: 0.9387 - val_loss: 0.4229 - val_acc: 0.8661\n",
      "Epoch 19/30\n",
      "78/78 [==============================] - 4s 54ms/step - loss: 0.1465 - acc: 0.9492 - val_loss: 0.4024 - val_acc: 0.8799\n",
      "Epoch 20/30\n",
      "78/78 [==============================] - 4s 53ms/step - loss: 0.1309 - acc: 0.9534 - val_loss: 0.4027 - val_acc: 0.8832\n",
      "Epoch 21/30\n",
      "78/78 [==============================] - 4s 53ms/step - loss: 0.1121 - acc: 0.9614 - val_loss: 0.4326 - val_acc: 0.8742\n",
      "Epoch 22/30\n",
      "78/78 [==============================] - 4s 57ms/step - loss: 0.0929 - acc: 0.9681 - val_loss: 0.4364 - val_acc: 0.8771\n",
      "Epoch 23/30\n",
      "78/78 [==============================] - 4s 54ms/step - loss: 0.1051 - acc: 0.9637 - val_loss: 0.4577 - val_acc: 0.8706\n",
      "Epoch 24/30\n",
      "78/78 [==============================] - 4s 54ms/step - loss: 0.0940 - acc: 0.9682 - val_loss: 0.5391 - val_acc: 0.8690\n",
      "Epoch 25/30\n",
      "78/78 [==============================] - 4s 53ms/step - loss: 0.0977 - acc: 0.9661 - val_loss: 0.4016 - val_acc: 0.8755\n",
      "Epoch 26/30\n",
      "78/78 [==============================] - 4s 56ms/step - loss: 0.0711 - acc: 0.9762 - val_loss: 0.4923 - val_acc: 0.8807\n",
      "Epoch 27/30\n",
      "78/78 [==============================] - 4s 57ms/step - loss: 0.1958 - acc: 0.9383 - val_loss: 0.4773 - val_acc: 0.8734\n",
      "Epoch 28/30\n",
      "78/78 [==============================] - 5s 58ms/step - loss: 0.2402 - acc: 0.9179 - val_loss: 0.4252 - val_acc: 0.8726\n",
      "Epoch 29/30\n",
      "78/78 [==============================] - 4s 57ms/step - loss: 0.1613 - acc: 0.9489 - val_loss: 0.3858 - val_acc: 0.8925\n",
      "Epoch 30/30\n",
      "78/78 [==============================] - 4s 58ms/step - loss: 0.0776 - acc: 0.9738 - val_loss: 0.4111 - val_acc: 0.8872\n"
     ]
    }
   ],
   "source": [
    "# Training \n",
    "\n",
    "lstm_model_history = lstm_model.fit(x_train,y_train,batch_size=128,epochs=30,validation_split=0.2)"
   ]
  },
  {
   "cell_type": "code",
   "execution_count": 43,
   "id": "cc53d9c7",
   "metadata": {},
   "outputs": [
    {
     "name": "stdout",
     "output_type": "stream",
     "text": [
      "97/97 [==============================] - 1s 8ms/step - loss: 0.3559 - acc: 0.9062\n"
     ]
    }
   ],
   "source": [
    "# Evaluation on Test Set\n",
    "\n",
    "score = lstm_model.evaluate(x_test,y_test,verbose=1)"
   ]
  },
  {
   "cell_type": "code",
   "execution_count": 44,
   "id": "54ee3595",
   "metadata": {},
   "outputs": [
    {
     "name": "stdout",
     "output_type": "stream",
     "text": [
      "Test Score : 0.3558846116065979\n",
      "Test Accuracy : 0.9061992764472961\n"
     ]
    }
   ],
   "source": [
    "print(\"Test Score :\",score[0])\n",
    "print(\"Test Accuracy :\",score[1])"
   ]
  },
  {
   "cell_type": "code",
   "execution_count": 45,
   "id": "8cb61a75",
   "metadata": {},
   "outputs": [
    {
     "data": {
      "image/png": "[encoded data removed]",
      "text/plain": [
       "<Figure size 640x480 with 1 Axes>"
      ]
     },
     "metadata": {},
     "output_type": "display_data"
    },
    {
     "data": {
      "image/png": "[encoded data removed]",
      "text/plain": [
       "<Figure size 640x480 with 1 Axes>"
      ]
     },
     "metadata": {},
     "output_type": "display_data"
    }
   ],
   "source": [
    "# Model Performance Chart\n",
    "\n",
    "plt.plot(lstm_model_history.history[\"acc\"])\n",
    "plt.plot(lstm_model_history.history[\"val_acc\"])\n",
    "\n",
    "plt.title('model accuracy')\n",
    "plt.ylabel(\"accuracy\")\n",
    "plt.xlabel(\"epoch\")\n",
    "plt.legend([\"train\",\"Test\"])\n",
    "plt.show()\n",
    "\n",
    "plt.plot(lstm_model_history.history[\"loss\"])\n",
    "plt.plot(lstm_model_history.history[\"val_loss\"])\n",
    "\n",
    "plt.title('model loss')\n",
    "plt.ylabel(\"loss\")\n",
    "plt.xlabel(\"epoch\")\n",
    "plt.legend([\"train\",\"Test\"])\n",
    "plt.show()"
   ]
  },
  {
   "cell_type": "code",
   "execution_count": 46,
   "id": "fd670658",
   "metadata": {},
   "outputs": [],
   "source": [
    "lstm_model.save(f\"./lstm_model.h5\",save_format=\"h5\")"
   ]
  }
 ],
 "metadata": {
  "kernelspec": {
   "display_name": "Python 3 (ipykernel)",
   "language": "python",
   "name": "python3"
  },
  "language_info": {
   "codemirror_mode": {
    "name": "ipython",
    "version": 3
   },
   "file_extension": ".py",
   "mimetype": "text/x-python",
   "name": "python",
   "nbconvert_exporter": "python",
   "pygments_lexer": "ipython3",
   "version": "3.11.1"
  }
 },
 "nbformat": 4,
 "nbformat_minor": 5
}
